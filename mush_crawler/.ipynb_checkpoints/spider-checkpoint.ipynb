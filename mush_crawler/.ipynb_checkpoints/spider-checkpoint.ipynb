{
 "cells": [
  {
   "cell_type": "code",
   "execution_count": null,
   "metadata": {
    "collapsed": true
   },
   "outputs": [],
   "source": [
    "import requests\n",
    "import re\n",
    "from lxml import html \n",
    "import pandas as pd\n",
    "import time"
   ]
  },
  {
   "cell_type": "code",
   "execution_count": null,
   "metadata": {
    "collapsed": false
   },
   "outputs": [],
   "source": [
    "start_url = list(pd.read_csv(\"urls.csv\",encoding = \"utf-8\")['URL'].values)"
   ]
  },
  {
   "cell_type": "code",
   "execution_count": 1,
   "metadata": {
    "collapsed": true
   },
   "outputs": [],
   "source": [
    "def parse_page(url):\n",
    "    response = requests.get(url)\n",
    "    tree = html.fromstring(response.text)\n",
    "    item = {}\n",
    "    \n",
    "    item['name'] = tree.xpath('//div[@class=\"location-hero-details\"]/div/h1/text()')[0]\n",
    "    item['location'] = tree.xpath('//div[@class=\"location-hero-details\"]/div/p/a/text()')\n",
    "    try:\n",
    "        item['location_features'] = tree.xpath('//div[@class=\"location-features\"]/ul[@class=\"list-unstyled\"]/li/h5/text()')\n",
    "    except:\n",
    "        pass\n",
    "    try:\n",
    "        item['price'] = tree.xpath('//strong[@class=\"from-price\"]/text()')[0]\n",
    "    except:\n",
    "        item['price'] = tree.xpath('//strong[@class=\"from-price\"]/text()')\n",
    "    item['petaway_features'] = tree.xpath('//h5[@class=\"media-heading\"]/text()')\n",
    "    item['description'] = ' '.join(tree.xpath('//div[@class=\"location-description col-sm-12\"]/p/span/text()'))\n",
    "    item['bedroom&suites'] = tree.xpath('//div[@class=\"travel-location-intro\"]/text()')\n",
    "    item['dining'] = tree.xpath('//div[@class=\"travel-location-dining travel-location-row double-border-row\"]/div/div/p/text()')\n",
    "    \n",
    "    df = pd.DataFrame.from_dict(item, orient='index')\n",
    "    df = df.transpose()\n",
    "    return df\n",
    "    "
   ]
  },
  {
   "cell_type": "code",
   "execution_count": null,
   "metadata": {
    "collapsed": false
   },
   "outputs": [],
   "source": [
    "i = 1\n",
    "for url in start_url:\n",
    "    print('Start crawl ', url )\n",
    "    df = pd.DataFrame()\n",
    "    next_page = [url]\n",
    "    \n",
    "    while next_page != []:\n",
    "        response = requests.get(next_page[0]) \n",
    "        tree = html.fromstring(response.text)\n",
    "    \n",
    "        location_urls = tree.xpath('//h2[@class=\"item-title\"]/a/@href')\n",
    "    \n",
    "        for location_url in location_urls:\n",
    "            #print(location_url)\n",
    "            new_df = parse_page(location_url)\n",
    "            df = pd.concat([df, new_df])\n",
    "            \n",
    "        next_page = tree.xpath('//li[@class=\"next\"]/a/@href')\n",
    "        \n",
    "        time.sleep(3)\n",
    "        print('next page')\n",
    "    path = str(i)+'.csv'\n",
    "    df.to_csv(path)"
   ]
  }
 ],
 "metadata": {
  "kernelspec": {
   "display_name": "Python 3",
   "language": "python",
   "name": "python3"
  },
  "language_info": {
   "codemirror_mode": {
    "name": "ipython",
    "version": 3
   },
   "file_extension": ".py",
   "mimetype": "text/x-python",
   "name": "python",
   "nbconvert_exporter": "python",
   "pygments_lexer": "ipython3",
   "version": "3.5.2"
  }
 },
 "nbformat": 4,
 "nbformat_minor": 0
}
